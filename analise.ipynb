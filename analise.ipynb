{
 "cells": [
  {
   "cell_type": "markdown",
   "id": "b28c715d",
   "metadata": {},
   "source": [
    "# **Análise Estatística: Organizando e analisando dados de um Airbnb**"
   ]
  },
  {
   "cell_type": "markdown",
   "id": "15cb2b2e",
   "metadata": {},
   "source": [
    "## **Importação e Exploração Inicial da Base**"
   ]
  },
  {
   "cell_type": "code",
   "execution_count": 40,
   "id": "9483b7ab",
   "metadata": {},
   "outputs": [],
   "source": [
    "#Importação de bibliotecas e do arquivo a ser analisado\n",
    "\n",
    "import seaborn as sns\n",
    "import matplotlib.pyplot as plt\n",
    "import pandas as pd\n",
    "\n",
    "listings = pd.read_csv(\"listings_cleaned.csv\")\n",
    "reviews = pd.read_csv(\"reviews.csv\")"
   ]
  },
  {
   "cell_type": "code",
   "execution_count": 41,
   "id": "e466cb3b",
   "metadata": {},
   "outputs": [
    {
     "name": "stdout",
     "output_type": "stream",
     "text": [
      "Listagens (listings_cleaned.csv):\n",
      "       id neighbourhood_cleansed        room_type  accommodates  bathrooms  \\\n",
      "0  271975                Vidigal  Entire home/apt             4        1.0   \n",
      "1  272335             Copacabana  Entire home/apt             4        1.0   \n",
      "2  272631             Copacabana     Private room             2        1.0   \n",
      "3  273261                 Leblon  Entire home/apt             6        3.5   \n",
      "4  273363           Santa Teresa     Private room             1        1.0   \n",
      "\n",
      "   bedrooms  beds   price  \n",
      "0       2.0   2.0   236.0  \n",
      "1       1.0   1.0   723.0  \n",
      "2       1.0   2.0  1146.0  \n",
      "3       3.0   3.0  6742.0  \n",
      "4       1.0   1.0    61.0  \n",
      "\n",
      "Avaliações (reviews.csv):\n",
      "       id  number_of_reviews  review_scores_rating\n",
      "0  272335                367                  4.92\n",
      "1  272631                 32                  5.00\n",
      "2  273363                  5                  5.00\n",
      "3  273463                654                  4.83\n",
      "4  273496                 60                  4.80\n"
     ]
    }
   ],
   "source": [
    "#Exploração das primeiras linhas com .head()\n",
    "\n",
    "print(\"Listagens (listings_cleaned.csv):\")\n",
    "print(listings.head())\n",
    "\n",
    "print(\"\\nAvaliações (reviews.csv):\")\n",
    "print(reviews.head())"
   ]
  },
  {
   "cell_type": "code",
   "execution_count": 42,
   "id": "e4a9f26e",
   "metadata": {},
   "outputs": [
    {
     "name": "stdout",
     "output_type": "stream",
     "text": [
      "<class 'pandas.core.frame.DataFrame'>\n",
      "RangeIndex: 39499 entries, 0 to 39498\n",
      "Data columns (total 8 columns):\n",
      " #   Column                  Non-Null Count  Dtype  \n",
      "---  ------                  --------------  -----  \n",
      " 0   id                      39499 non-null  int64  \n",
      " 1   neighbourhood_cleansed  39499 non-null  object \n",
      " 2   room_type               39499 non-null  object \n",
      " 3   accommodates            39499 non-null  int64  \n",
      " 4   bathrooms               36609 non-null  float64\n",
      " 5   bedrooms                38976 non-null  float64\n",
      " 6   beds                    36630 non-null  float64\n",
      " 7   price                   36644 non-null  float64\n",
      "dtypes: float64(4), int64(2), object(2)\n",
      "memory usage: 2.4+ MB\n",
      "<class 'pandas.core.frame.DataFrame'>\n",
      "RangeIndex: 32695 entries, 0 to 32694\n",
      "Data columns (total 3 columns):\n",
      " #   Column                Non-Null Count  Dtype  \n",
      "---  ------                --------------  -----  \n",
      " 0   id                    32695 non-null  int64  \n",
      " 1   number_of_reviews     32695 non-null  int64  \n",
      " 2   review_scores_rating  32695 non-null  float64\n",
      "dtypes: float64(1), int64(2)\n",
      "memory usage: 766.4 KB\n"
     ]
    }
   ],
   "source": [
    "#Verificação dos tipos de dados e nome das colunas com .info()\n",
    "\n",
    "listings.info()\n",
    "\n",
    "reviews.info()"
   ]
  },
  {
   "cell_type": "code",
   "execution_count": 43,
   "id": "0fda5f70",
   "metadata": {},
   "outputs": [
    {
     "data": {
      "text/plain": [
       "(32695, 3)"
      ]
     },
     "execution_count": 43,
     "metadata": {},
     "output_type": "execute_result"
    }
   ],
   "source": [
    "#Verificação da quantidade de linhas e colunas com .shape ---> (linhas, colunas)\n",
    "\n",
    "listings.shape\n",
    "\n",
    "reviews.shape"
   ]
  },
  {
   "cell_type": "code",
   "execution_count": 44,
   "id": "4a352bb4",
   "metadata": {},
   "outputs": [
    {
     "name": "stdout",
     "output_type": "stream",
     "text": [
      "<class 'pandas.core.frame.DataFrame'>\n",
      "RangeIndex: 39499 entries, 0 to 39498\n",
      "Data columns (total 10 columns):\n",
      " #   Column                  Non-Null Count  Dtype  \n",
      "---  ------                  --------------  -----  \n",
      " 0   id                      39499 non-null  int64  \n",
      " 1   neighbourhood_cleansed  39499 non-null  object \n",
      " 2   room_type               39499 non-null  object \n",
      " 3   accommodates            39499 non-null  int64  \n",
      " 4   bathrooms               36609 non-null  float64\n",
      " 5   bedrooms                38976 non-null  float64\n",
      " 6   beds                    36630 non-null  float64\n",
      " 7   price                   36644 non-null  float64\n",
      " 8   number_of_reviews       32695 non-null  float64\n",
      " 9   review_scores_rating    32695 non-null  float64\n",
      "dtypes: float64(6), int64(2), object(2)\n",
      "memory usage: 3.0+ MB\n"
     ]
    }
   ],
   "source": [
    "#Unir os dois DataFrames em uma única base consolidada, utilizando a função pd.merge() com left (quando utilizado o inner ele removia as linhas que continham valores nulos e aí acabava com metade do exercício proposto)\n",
    "\n",
    "df = pd.merge(\n",
    "    listings,\n",
    "    reviews,\n",
    "    left_on='id',\n",
    "    right_on='id',\n",
    "    how='left'\n",
    ")\n",
    "\n",
    "#df.head(10)\n",
    "\n",
    "df.info()\n"
   ]
  },
  {
   "cell_type": "markdown",
   "id": "96f8f8a3",
   "metadata": {},
   "source": [
    "## **Limpeza e Tratamento de Dados**"
   ]
  },
  {
   "cell_type": "code",
   "execution_count": 45,
   "id": "e7a9a24a",
   "metadata": {},
   "outputs": [
    {
     "name": "stdout",
     "output_type": "stream",
     "text": [
      "Valores ausentes por coluna:\n",
      "\n",
      "bathrooms               2890\n",
      "bedrooms                 523\n",
      "beds                    2869\n",
      "price                   2855\n",
      "number_of_reviews       6804\n",
      "review_scores_rating    6804\n",
      "dtype: int64\n"
     ]
    }
   ],
   "source": [
    "#Verificando a quantidade de valores ausentes por coluna\n",
    "\n",
    "missing_values = df.isnull().sum()\n",
    "\n",
    "print(\"Valores ausentes por coluna:\\n\")\n",
    "\n",
    "print(missing_values[missing_values > 0])"
   ]
  },
  {
   "cell_type": "code",
   "execution_count": 46,
   "id": "565dfca0",
   "metadata": {},
   "outputs": [
    {
     "name": "stdout",
     "output_type": "stream",
     "text": [
      "<class 'pandas.core.frame.DataFrame'>\n",
      "Index: 32695 entries, 1 to 39498\n",
      "Data columns (total 10 columns):\n",
      " #   Column                  Non-Null Count  Dtype  \n",
      "---  ------                  --------------  -----  \n",
      " 0   id                      32695 non-null  int64  \n",
      " 1   neighbourhood_cleansed  32695 non-null  object \n",
      " 2   room_type               32695 non-null  object \n",
      " 3   accommodates            32695 non-null  int64  \n",
      " 4   bathrooms               32695 non-null  float64\n",
      " 5   bedrooms                32695 non-null  float64\n",
      " 6   beds                    32695 non-null  float64\n",
      " 7   price                   32695 non-null  float64\n",
      " 8   number_of_reviews       32695 non-null  float64\n",
      " 9   review_scores_rating    32695 non-null  float64\n",
      "dtypes: float64(6), int64(2), object(2)\n",
      "memory usage: 2.7+ MB\n"
     ]
    }
   ],
   "source": [
    "#Remove qualquer linha com valor nulo\n",
    "\n",
    "df.dropna(inplace=True)\n",
    "\n",
    "df.info()\n",
    "\n",
    "linhas_nao_nulas = len(df)"
   ]
  },
  {
   "cell_type": "markdown",
   "id": "a1a24d99",
   "metadata": {},
   "source": [
    "## **Tratando e Visualizando Outliers**"
   ]
  },
  {
   "cell_type": "code",
   "execution_count": 47,
   "id": "bfb0af19",
   "metadata": {},
   "outputs": [
    {
     "data": {
      "image/png": "[encoded data removed]",
      "text/plain": [
       "<Figure size 640x480 with 1 Axes>"
      ]
     },
     "metadata": {},
     "output_type": "display_data"
    }
   ],
   "source": [
    "#Visualizando Outliers de Price\n",
    "\n",
    "plt.boxplot(df['price'].dropna())\n",
    "plt.title('Boxplot do Preço')\n",
    "plt.ylabel('Preço')\n",
    "plt.show()"
   ]
  },
  {
   "cell_type": "code",
   "execution_count": 48,
   "id": "abe36601",
   "metadata": {},
   "outputs": [
    {
     "name": "stdout",
     "output_type": "stream",
     "text": [
      "Q1: 386.0\n",
      "Q3: 1036.0\n",
      "IQR: 650.0\n",
      "Limite inferior: -589.0\n",
      "Limite superior: 2011.0\n"
     ]
    }
   ],
   "source": [
    "#Calcular o IQR (Intervalo Interquartil)\n",
    "\n",
    "# Calcular Q1 e Q3\n",
    "Q1 = df['price'].quantile(0.25)\n",
    "Q3 = df['price'].quantile(0.75)\n",
    "IQR = Q3 - Q1\n",
    "\n",
    "# Limites para detecção de outliers\n",
    "limite_inferior = Q1 - 1.5 * IQR\n",
    "limite_superior = Q3 + 1.5 * IQR\n",
    "\n",
    "print(f\"Q1: {Q1}\")\n",
    "print(f\"Q3: {Q3}\")\n",
    "print(f\"IQR: {IQR}\")\n",
    "print(f\"Limite inferior: {limite_inferior}\")\n",
    "print(f\"Limite superior: {limite_superior}\")"
   ]
  },
  {
   "cell_type": "code",
   "execution_count": 49,
   "id": "66fac410",
   "metadata": {},
   "outputs": [],
   "source": [
    "#Remover os outliers com base no IQR\n",
    "\n",
    "df = df[(df['price'] >= limite_inferior) & (df['price'] <= limite_superior)]"
   ]
  },
  {
   "cell_type": "code",
   "execution_count": 50,
   "id": "26f3ea46",
   "metadata": {},
   "outputs": [
    {
     "data": {
      "image/png": "[encoded data removed]",
      "text/plain": [
       "<Figure size 640x480 with 1 Axes>"
      ]
     },
     "metadata": {},
     "output_type": "display_data"
    },
    {
     "name": "stdout",
     "output_type": "stream",
     "text": [
      "Número de registros após remoção dos outliers: 31772\n",
      "Total de outliers removidos: 923\n"
     ]
    }
   ],
   "source": [
    "#Visualizando Remoção dos Outliers de Price\n",
    "\n",
    "plt.boxplot(df['price'].dropna())\n",
    "plt.title('Boxplot do Preço')\n",
    "plt.ylabel('Preço')\n",
    "plt.show()\n",
    "\n",
    "print(f\"Número de registros após remoção dos outliers: {len(df)}\")\n",
    "print(f\"Total de outliers removidos: {linhas_nao_nulas - len(df)}\")"
   ]
  },
  {
   "cell_type": "markdown",
   "id": "b834a9a8",
   "metadata": {},
   "source": [
    "## **Transformando Dados Categóricos**"
   ]
  },
  {
   "cell_type": "code",
   "execution_count": null,
   "id": "286e2ed8",
   "metadata": {},
   "outputs": [
    {
     "data": {
      "text/html": [
       "<div>\n",
       "<style scoped>\n",
       "    .dataframe tbody tr th:only-of-type {\n",
       "        vertical-align: middle;\n",
       "    }\n",
       "\n",
       "    .dataframe tbody tr th {\n",
       "        vertical-align: top;\n",
       "    }\n",
       "\n",
       "    .dataframe thead th {\n",
       "        text-align: right;\n",
       "    }\n",
       "</style>\n",
       "<table border=\"1\" class=\"dataframe\">\n",
       "  <thead>\n",
       "    <tr style=\"text-align: right;\">\n",
       "      <th></th>\n",
       "      <th>id</th>\n",
       "      <th>neighbourhood_cleansed</th>\n",
       "      <th>room_type</th>\n",
       "      <th>accommodates</th>\n",
       "      <th>bathrooms</th>\n",
       "      <th>bedrooms</th>\n",
       "      <th>beds</th>\n",
       "      <th>price</th>\n",
       "      <th>number_of_reviews</th>\n",
       "      <th>review_scores_rating</th>\n",
       "      <th>neighbourhood_cleansed_code</th>\n",
       "      <th>room_type_code</th>\n",
       "    </tr>\n",
       "  </thead>\n",
       "  <tbody>\n",
       "    <tr>\n",
       "      <th>1</th>\n",
       "      <td>272335</td>\n",
       "      <td>Copacabana</td>\n",
       "      <td>Entire home/apt</td>\n",
       "      <td>4</td>\n",
       "      <td>1.0</td>\n",
       "      <td>1.0</td>\n",
       "      <td>1.0</td>\n",
       "      <td>723.0</td>\n",
       "      <td>367.0</td>\n",
       "      <td>4.92</td>\n",
       "      <td>31</td>\n",
       "      <td>0</td>\n",
       "    </tr>\n",
       "    <tr>\n",
       "      <th>2</th>\n",
       "      <td>272631</td>\n",
       "      <td>Copacabana</td>\n",
       "      <td>Private room</td>\n",
       "      <td>2</td>\n",
       "      <td>1.0</td>\n",
       "      <td>1.0</td>\n",
       "      <td>2.0</td>\n",
       "      <td>1146.0</td>\n",
       "      <td>32.0</td>\n",
       "      <td>5.00</td>\n",
       "      <td>31</td>\n",
       "      <td>2</td>\n",
       "    </tr>\n",
       "    <tr>\n",
       "      <th>4</th>\n",
       "      <td>273363</td>\n",
       "      <td>Santa Teresa</td>\n",
       "      <td>Private room</td>\n",
       "      <td>1</td>\n",
       "      <td>1.0</td>\n",
       "      <td>1.0</td>\n",
       "      <td>1.0</td>\n",
       "      <td>61.0</td>\n",
       "      <td>5.0</td>\n",
       "      <td>5.00</td>\n",
       "      <td>120</td>\n",
       "      <td>2</td>\n",
       "    </tr>\n",
       "    <tr>\n",
       "      <th>5</th>\n",
       "      <td>273463</td>\n",
       "      <td>Lagoa</td>\n",
       "      <td>Entire home/apt</td>\n",
       "      <td>6</td>\n",
       "      <td>2.0</td>\n",
       "      <td>2.0</td>\n",
       "      <td>6.0</td>\n",
       "      <td>1411.0</td>\n",
       "      <td>654.0</td>\n",
       "      <td>4.83</td>\n",
       "      <td>74</td>\n",
       "      <td>0</td>\n",
       "    </tr>\n",
       "    <tr>\n",
       "      <th>6</th>\n",
       "      <td>273496</td>\n",
       "      <td>Leblon</td>\n",
       "      <td>Entire home/apt</td>\n",
       "      <td>6</td>\n",
       "      <td>2.5</td>\n",
       "      <td>2.0</td>\n",
       "      <td>5.0</td>\n",
       "      <td>703.0</td>\n",
       "      <td>60.0</td>\n",
       "      <td>4.80</td>\n",
       "      <td>76</td>\n",
       "      <td>0</td>\n",
       "    </tr>\n",
       "  </tbody>\n",
       "</table>\n",
       "</div>"
      ],
      "text/plain": [
       "       id neighbourhood_cleansed        room_type  accommodates  bathrooms  \\\n",
       "1  272335             Copacabana  Entire home/apt             4        1.0   \n",
       "2  272631             Copacabana     Private room             2        1.0   \n",
       "4  273363           Santa Teresa     Private room             1        1.0   \n",
       "5  273463                  Lagoa  Entire home/apt             6        2.0   \n",
       "6  273496                 Leblon  Entire home/apt             6        2.5   \n",
       "\n",
       "   bedrooms  beds   price  number_of_reviews  review_scores_rating  \\\n",
       "1       1.0   1.0   723.0              367.0                  4.92   \n",
       "2       1.0   2.0  1146.0               32.0                  5.00   \n",
       "4       1.0   1.0    61.0                5.0                  5.00   \n",
       "5       2.0   6.0  1411.0              654.0                  4.83   \n",
       "6       2.0   5.0   703.0               60.0                  4.80   \n",
       "\n",
       "   neighbourhood_cleansed_code  room_type_code  \n",
       "1                           31               0  \n",
       "2                           31               2  \n",
       "4                          120               2  \n",
       "5                           74               0  \n",
       "6                           76               0  "
      ]
     },
     "execution_count": 52,
     "metadata": {},
     "output_type": "execute_result"
    }
   ],
   "source": [
    "#Transformação de dados categóricos em novas colunas\n",
    "\n",
    "category_cols = df.select_dtypes(include='object').columns\n",
    "\n",
    "for col in category_cols:\n",
    "    df[col + '_code'] = df[col].astype('category').cat.codes\n",
    "\n",
    "df.head(5)"
   ]
  },
  {
   "cell_type": "code",
   "execution_count": 68,
   "id": "5a382803",
   "metadata": {},
   "outputs": [
    {
     "name": "stdout",
     "output_type": "stream",
     "text": [
      "Tabela De_Para de vizinhança: \n",
      "\n",
      "    neighbourhood_cleansed  neighbourhood_cleansed_code\n",
      "91                Abolição                            0\n",
      "57       Alto da Boa Vista                            1\n",
      "80                 Andaraí                            2\n",
      "68                    Anil                            3\n",
      "123              Bancários                            4\n",
      "..                     ...                          ...\n",
      "120           Vila Militar                          147\n",
      "78          Vila Valqueire                          148\n",
      "100          Vila da Penha                          149\n",
      "135                  Zumbi                          150\n",
      "148             Água Santa                          151\n",
      "\n",
      "[152 rows x 2 columns]\n",
      "\n",
      "Tabela De_Para de tipo de quarto: \n",
      "\n",
      "         room_type  room_type_code\n",
      "0  Entire home/apt               0\n",
      "3       Hotel room               1\n",
      "1     Private room               2\n",
      "2      Shared room               3\n"
     ]
    }
   ],
   "source": [
    "#Criação de tabelas auxiliares para os dados categoricos normalizados\n",
    "\n",
    "de_para_neighbourhood = df[['neighbourhood_cleansed', 'neighbourhood_cleansed_code']].drop_duplicates().reset_index(drop=True).sort_values(by='neighbourhood_cleansed_code')\n",
    "\n",
    "de_para_room_type = df[['room_type', 'room_type_code']].drop_duplicates().reset_index(drop=True).sort_values(by='room_type_code')\n",
    "\n",
    "print(\"Tabela De_Para de vizinhança: \\n\")\n",
    "print(de_para_neighbourhood)\n",
    "print(\"\\nTabela De_Para de tipo de quarto: \\n\")\n",
    "print(de_para_room_type)"
   ]
  },
  {
   "cell_type": "code",
   "execution_count": 72,
   "id": "7344a9ff",
   "metadata": {},
   "outputs": [
    {
     "data": {
      "text/html": [
       "<div>\n",
       "<style scoped>\n",
       "    .dataframe tbody tr th:only-of-type {\n",
       "        vertical-align: middle;\n",
       "    }\n",
       "\n",
       "    .dataframe tbody tr th {\n",
       "        vertical-align: top;\n",
       "    }\n",
       "\n",
       "    .dataframe thead th {\n",
       "        text-align: right;\n",
       "    }\n",
       "</style>\n",
       "<table border=\"1\" class=\"dataframe\">\n",
       "  <thead>\n",
       "    <tr style=\"text-align: right;\">\n",
       "      <th></th>\n",
       "      <th>id</th>\n",
       "      <th>accommodates</th>\n",
       "      <th>bathrooms</th>\n",
       "      <th>bedrooms</th>\n",
       "      <th>beds</th>\n",
       "      <th>price</th>\n",
       "      <th>number_of_reviews</th>\n",
       "      <th>review_scores_rating</th>\n",
       "      <th>neighbourhood_cleansed_code</th>\n",
       "      <th>room_type_code</th>\n",
       "    </tr>\n",
       "  </thead>\n",
       "  <tbody>\n",
       "    <tr>\n",
       "      <th>1</th>\n",
       "      <td>272335</td>\n",
       "      <td>4</td>\n",
       "      <td>1.0</td>\n",
       "      <td>1.0</td>\n",
       "      <td>1.0</td>\n",
       "      <td>723.0</td>\n",
       "      <td>367.0</td>\n",
       "      <td>4.92</td>\n",
       "      <td>31</td>\n",
       "      <td>0</td>\n",
       "    </tr>\n",
       "    <tr>\n",
       "      <th>2</th>\n",
       "      <td>272631</td>\n",
       "      <td>2</td>\n",
       "      <td>1.0</td>\n",
       "      <td>1.0</td>\n",
       "      <td>2.0</td>\n",
       "      <td>1146.0</td>\n",
       "      <td>32.0</td>\n",
       "      <td>5.00</td>\n",
       "      <td>31</td>\n",
       "      <td>2</td>\n",
       "    </tr>\n",
       "    <tr>\n",
       "      <th>4</th>\n",
       "      <td>273363</td>\n",
       "      <td>1</td>\n",
       "      <td>1.0</td>\n",
       "      <td>1.0</td>\n",
       "      <td>1.0</td>\n",
       "      <td>61.0</td>\n",
       "      <td>5.0</td>\n",
       "      <td>5.00</td>\n",
       "      <td>120</td>\n",
       "      <td>2</td>\n",
       "    </tr>\n",
       "    <tr>\n",
       "      <th>5</th>\n",
       "      <td>273463</td>\n",
       "      <td>6</td>\n",
       "      <td>2.0</td>\n",
       "      <td>2.0</td>\n",
       "      <td>6.0</td>\n",
       "      <td>1411.0</td>\n",
       "      <td>654.0</td>\n",
       "      <td>4.83</td>\n",
       "      <td>74</td>\n",
       "      <td>0</td>\n",
       "    </tr>\n",
       "    <tr>\n",
       "      <th>6</th>\n",
       "      <td>273496</td>\n",
       "      <td>6</td>\n",
       "      <td>2.5</td>\n",
       "      <td>2.0</td>\n",
       "      <td>5.0</td>\n",
       "      <td>703.0</td>\n",
       "      <td>60.0</td>\n",
       "      <td>4.80</td>\n",
       "      <td>76</td>\n",
       "      <td>0</td>\n",
       "    </tr>\n",
       "  </tbody>\n",
       "</table>\n",
       "</div>"
      ],
      "text/plain": [
       "       id  accommodates  bathrooms  bedrooms  beds   price  number_of_reviews  \\\n",
       "1  272335             4        1.0       1.0   1.0   723.0              367.0   \n",
       "2  272631             2        1.0       1.0   2.0  1146.0               32.0   \n",
       "4  273363             1        1.0       1.0   1.0    61.0                5.0   \n",
       "5  273463             6        2.0       2.0   6.0  1411.0              654.0   \n",
       "6  273496             6        2.5       2.0   5.0   703.0               60.0   \n",
       "\n",
       "   review_scores_rating  neighbourhood_cleansed_code  room_type_code  \n",
       "1                  4.92                           31               0  \n",
       "2                  5.00                           31               2  \n",
       "4                  5.00                          120               2  \n",
       "5                  4.83                           74               0  \n",
       "6                  4.80                           76               0  "
      ]
     },
     "execution_count": 72,
     "metadata": {},
     "output_type": "execute_result"
    }
   ],
   "source": [
    "#Remoção das colunas categóricas\n",
    "\n",
    "colunas_categoricas = ['room_type', 'neighbourhood_cleansed']\n",
    "\n",
    "df = df.drop(colunas_categoricas, axis='columns')\n",
    "\n",
    "df.head()"
   ]
  },
  {
   "cell_type": "markdown",
   "id": "c15ff941",
   "metadata": {},
   "source": [
    "## **Conferindo resultado final**"
   ]
  },
  {
   "cell_type": "code",
   "execution_count": 73,
   "id": "857a4a4f",
   "metadata": {},
   "outputs": [
    {
     "data": {
      "image/png": "[encoded data removed]",
      "text/plain": [
       "<Figure size 640x480 with 1 Axes>"
      ]
     },
     "metadata": {},
     "output_type": "display_data"
    }
   ],
   "source": [
    "#Verificar se ainda há outliers\n",
    "\n",
    "plt.boxplot(df['price'].dropna())\n",
    "plt.title('Boxplot do Preço - Verificação Final')\n",
    "plt.show()"
   ]
  },
  {
   "cell_type": "code",
   "execution_count": 74,
   "id": "1871dade",
   "metadata": {},
   "outputs": [
    {
     "name": "stdout",
     "output_type": "stream",
     "text": [
      "       id  accommodates  bathrooms  bedrooms  beds   price  number_of_reviews  \\\n",
      "1  272335             4        1.0       1.0   1.0   723.0              367.0   \n",
      "2  272631             2        1.0       1.0   2.0  1146.0               32.0   \n",
      "4  273363             1        1.0       1.0   1.0    61.0                5.0   \n",
      "5  273463             6        2.0       2.0   6.0  1411.0              654.0   \n",
      "6  273496             6        2.5       2.0   5.0   703.0               60.0   \n",
      "\n",
      "   review_scores_rating  neighbourhood_cleansed_code  room_type_code  \n",
      "1                  4.92                           31               0  \n",
      "2                  5.00                           31               2  \n",
      "4                  5.00                          120               2  \n",
      "5                  4.83                           74               0  \n",
      "6                  4.80                           76               0  \n",
      "<class 'pandas.core.frame.DataFrame'>\n",
      "Index: 31772 entries, 1 to 39498\n",
      "Data columns (total 10 columns):\n",
      " #   Column                       Non-Null Count  Dtype  \n",
      "---  ------                       --------------  -----  \n",
      " 0   id                           31772 non-null  int64  \n",
      " 1   accommodates                 31772 non-null  int64  \n",
      " 2   bathrooms                    31772 non-null  float64\n",
      " 3   bedrooms                     31772 non-null  float64\n",
      " 4   beds                         31772 non-null  float64\n",
      " 5   price                        31772 non-null  float64\n",
      " 6   number_of_reviews            31772 non-null  float64\n",
      " 7   review_scores_rating         31772 non-null  float64\n",
      " 8   neighbourhood_cleansed_code  31772 non-null  int16  \n",
      " 9   room_type_code               31772 non-null  int8   \n",
      "dtypes: float64(6), int16(1), int64(2), int8(1)\n",
      "memory usage: 2.3 MB\n",
      "None\n",
      "                 id  accommodates   bathrooms      bedrooms          beds  \\\n",
      "count  3.177200e+04  31772.000000  31772.0000  31772.000000  31772.000000   \n",
      "mean   6.953748e+17      3.693252      1.3671      1.387952      2.153311   \n",
      "std    5.186011e+17      1.899247      0.7119      0.841544      1.626848   \n",
      "min    1.787800e+04      1.000000      0.0000      0.000000      0.000000   \n",
      "25%    4.345363e+07      2.000000      1.0000      1.000000      1.000000   \n",
      "50%    8.625607e+17      4.000000      1.0000      1.000000      2.000000   \n",
      "75%    1.148612e+18      4.000000      2.0000      2.000000      3.000000   \n",
      "max    1.320520e+18     16.000000     20.0000     26.000000     50.000000   \n",
      "\n",
      "              price  number_of_reviews  review_scores_rating  \\\n",
      "count  31772.000000       31772.000000          31772.000000   \n",
      "mean     739.958360          24.112741              4.815979   \n",
      "std      457.360796          46.395426              0.297785   \n",
      "min       33.000000           0.000000              0.000000   \n",
      "25%      379.000000           1.000000              4.812309   \n",
      "50%      650.000000           6.000000              4.830000   \n",
      "75%     1000.000000          26.000000              5.000000   \n",
      "max     2011.000000         710.000000              5.000000   \n",
      "\n",
      "       neighbourhood_cleansed_code  room_type_code  \n",
      "count                 31772.000000    31772.000000  \n",
      "mean                     50.619508        0.425060  \n",
      "std                      36.843779        0.830901  \n",
      "min                       0.000000        0.000000  \n",
      "25%                      31.000000        0.000000  \n",
      "50%                      31.000000        0.000000  \n",
      "75%                      71.000000        0.000000  \n",
      "max                     151.000000        3.000000  \n",
      "Colunas do dataset: ['id', 'accommodates', 'bathrooms', 'bedrooms', 'beds', 'price', 'number_of_reviews', 'review_scores_rating', 'neighbourhood_cleansed_code', 'room_type_code']\n"
     ]
    }
   ],
   "source": [
    "#Inspeção Geral\n",
    "print(df.head())\n",
    "print(df.info())\n",
    "print(df.describe())\n",
    "print(\"Colunas do dataset:\", df.columns.tolist())"
   ]
  }
 ],
 "metadata": {
  "kernelspec": {
   "display_name": "Python 3",
   "language": "python",
   "name": "python3"
  },
  "language_info": {
   "codemirror_mode": {
    "name": "ipython",
    "version": 3
   },
   "file_extension": ".py",
   "mimetype": "text/x-python",
   "name": "python",
   "nbconvert_exporter": "python",
   "pygments_lexer": "ipython3",
   "version": "3.13.3"
  }
 },
 "nbformat": 4,
 "nbformat_minor": 5
}
